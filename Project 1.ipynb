{
 "cells": [
  {
   "cell_type": "code",
   "execution_count": null,
   "id": "initial_id",
   "metadata": {
    "collapsed": true
   },
   "outputs": [],
   "source": [
    "\"\"\"\n",
    "create 3 famous missionaries and cannibals crossing the river  game.\n",
    "\"\"\""
   ]
  },
  {
   "metadata": {
    "ExecuteTime": {
     "end_time": "2024-10-31T16:22:33.233430Z",
     "start_time": "2024-10-31T16:22:25.912368Z"
    }
   },
   "cell_type": "code",
   "source": [
    "boat_side=\"right\"\n",
    "missionaries_on_right=3\n",
    "cannibals_on_right=3\n",
    "missionaries_on_left=0\n",
    "cannibals_on_left=0\n",
    "#M=0 C=0 |---B| M=3 C=3\n",
    "print(\"M=\",missionaries_on_left,\"C=\",cannibals_on_left,\"|----B|\",\"M=\",missionaries_on_right,\"C=\",cannibals_on_right)\n",
    "\n",
    "while True:\n",
    "    missionaries=int(input(\"No of missionaries or press 10 to Quit?\"))   \n",
    "    if missionaries==10:\n",
    "        print(\"Game Over.You Quiet\")\n",
    "        break\n",
    "    cannibals=int(input(\"How many cannibals?\"))\n",
    "    if(missionaries+cannibals) !=1 and (missionaries+cannibals)!=2:\n",
    "        print(\"invalid Move\")\n",
    "        continue\n",
    "    \n",
    "    if boat_side==\"right\":\n",
    "        print(\"it is on right side\")\n",
    "    else:\n",
    "        print(\"it is on left side\")\n",
    "    \n",
    "    if boat_side==\"right\":\n",
    "        if missionaries_on_right<missionaries or cannibals_on_right<cannibals:\n",
    "            print(\"invalid Move\")\n",
    "        \n",
    "        missionaries_on_right-=missionaries\n",
    "        cannibals_on_right-=cannibals\n",
    "        \n",
    "        missionaries_on_left+=missionaries\n",
    "        cannibals_on_left+=cannibals\n",
    "        \n",
    "        print(\"M=\",missionaries_on_left,\"C=\",cannibals_on_left,\"|B----|\",\"M=\",missionaries_on_right,\"C=\",cannibals_on_right)\n",
    "        boat_side=\"left\"\n",
    "    else:\n",
    "         if missionaries_on_left<missionaries or cannibals_on_left<cannibals:\n",
    "            print(\"invalid Move\")\n",
    "             \n",
    "         missionaries_on_left-=missionaries\n",
    "         cannibals_on_left-=cannibals\n",
    "         \n",
    "         missionaries_on_right+=missionaries\n",
    "         cannibals_on_right+=cannibals\n",
    "         \n",
    "         print(\"M=\",missionaries_on_left,\"C=\",cannibals_on_left,\"|----B|\",\"M=\",missionaries_on_right,\"C=\",cannibals_on_right)\n",
    "         boat_side=\"right\"\n",
    "        \n",
    "    if (missionaries_on_right < cannibals_on_right and missionaries_on_right>0) or (missionaries_on_left<cannibals_on_left and cannibals_on_left>0):\n",
    "        print(\"you Lose\")\n",
    "        break\n",
    "        \n",
    "    if missionaries_on_left == 3 and cannibals_on_left == 3:\n",
    "        print(\"you Win\")\n",
    "        break\n",
    "    "
   ],
   "id": "64fa78c49fbd84e5",
   "outputs": [
    {
     "name": "stdout",
     "output_type": "stream",
     "text": [
      "M= 0 C= 0 |----B| M= 3 C= 3\n",
      "it is on right side\n",
      "M= 2 C= 0 |B----| M= 1 C= 3\n",
      "you Lose\n"
     ]
    }
   ],
   "execution_count": 19
  },
  {
   "metadata": {
    "ExecuteTime": {
     "end_time": "2024-10-31T16:22:58.681728Z",
     "start_time": "2024-10-31T16:22:58.678626Z"
    }
   },
   "cell_type": "code",
   "source": "",
   "id": "49fea2375f9b29ba",
   "outputs": [],
   "execution_count": null
  },
  {
   "metadata": {},
   "cell_type": "code",
   "outputs": [],
   "execution_count": null,
   "source": "",
   "id": "8058ff6e334aee41"
  }
 ],
 "metadata": {
  "kernelspec": {
   "display_name": "Python 3",
   "language": "python",
   "name": "python3"
  },
  "language_info": {
   "codemirror_mode": {
    "name": "ipython",
    "version": 2
   },
   "file_extension": ".py",
   "mimetype": "text/x-python",
   "name": "python",
   "nbconvert_exporter": "python",
   "pygments_lexer": "ipython2",
   "version": "2.7.6"
  }
 },
 "nbformat": 4,
 "nbformat_minor": 5
}
